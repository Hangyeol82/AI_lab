{
  "cells": [
    {
      "cell_type": "markdown",
      "metadata": {
        "id": "view-in-github",
        "colab_type": "text"
      },
      "source": [
        "<a href=\"https://colab.research.google.com/github/Hangyeol82/AI_lab/blob/main/1%EC%A3%BC%EC%B0%A8%20%EA%B3%BC%EC%A0%9C.ipynb\" target=\"_parent\"><img src=\"https://colab.research.google.com/assets/colab-badge.svg\" alt=\"Open In Colab\"/></a>"
      ]
    },
    {
      "cell_type": "code",
      "source": [
        "# Check if PyTorch is available and import it\n",
        "try:\n",
        "    import torch\n",
        "    print(\"✓ PyTorch is successfully imported!\")\n",
        "    print(f\"PyTorch version: {torch.__version__}\")\n",
        "\n",
        "    # Check if CUDA is available\n",
        "    if torch.cuda.is_available():\n",
        "        print(f\"✓ CUDA is available! Device count: {torch.cuda.device_count()}\")\n",
        "        print(f\"Current CUDA device: {torch.cuda.get_device_name(0)}\")\n",
        "        device = torch.device(\"cuda\")\n",
        "    else:\n",
        "        print(\"CUDA is not available. Using CPU.\")\n",
        "        device = torch.device(\"cpu\")\n",
        "\n",
        "    # Create a simple tensor to test basic functionality\n",
        "    test_tensor = torch.tensor([1, 2, 3, 4, 5], device=device)\n",
        "    print(f\"✓ Test tensor created: {test_tensor}\")\n",
        "    print(f\"Tensor shape: {test_tensor.shape}\")\n",
        "    print(f\"Tensor device: {test_tensor.device}\")\n",
        "\n",
        "    # Basic tensor operation\n",
        "    squared_tensor = test_tensor ** 2\n",
        "    print(f\"✓ Basic operation test (squaring): {squared_tensor}\")\n",
        "\n",
        "    print(\"\\n🎉 PyTorch is working correctly!\")\n",
        "\n",
        "except ImportError as e:\n",
        "    print(\"❌ PyTorch is not installed or not available\")\n",
        "    print(f\"Error details: {e}\")\n",
        "    print(\"Please install PyTorch using: pip install torch\")\n",
        "\n",
        "except Exception as e:\n",
        "    print(f\"❌ An error occurred while testing PyTorch: {e}\")"
      ],
      "metadata": {
        "colab": {
          "base_uri": "https://localhost:8080/"
        },
        "id": "qWIog2Cxcav3",
        "outputId": "a207a33c-156f-4ed3-fee3-0e26ac5286d3"
      },
      "execution_count": null,
      "outputs": [
        {
          "output_type": "stream",
          "name": "stdout",
          "text": [
            "✓ PyTorch is successfully imported!\n",
            "PyTorch version: 2.8.0+cu126\n",
            "✓ CUDA is available! Device count: 1\n",
            "Current CUDA device: Tesla T4\n",
            "✓ Test tensor created: tensor([1, 2, 3, 4, 5], device='cuda:0')\n",
            "Tensor shape: torch.Size([5])\n",
            "Tensor device: cuda:0\n",
            "✓ Basic operation test (squaring): tensor([ 1,  4,  9, 16, 25], device='cuda:0')\n",
            "\n",
            "🎉 PyTorch is working correctly!\n"
          ]
        }
      ]
    },
    {
      "cell_type": "code",
      "source": [],
      "metadata": {
        "id": "g3ISwJy4cba4"
      },
      "execution_count": null,
      "outputs": []
    }
  ],
  "metadata": {
    "colab": {
      "toc_visible": true,
      "provenance": [],
      "gpuType": "T4",
      "include_colab_link": true
    },
    "kernelspec": {
      "display_name": "Python 3",
      "name": "python3"
    },
    "accelerator": "GPU"
  },
  "nbformat": 4,
  "nbformat_minor": 0
}